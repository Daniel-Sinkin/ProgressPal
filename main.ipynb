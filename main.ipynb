{
 "cells": [
  {
   "cell_type": "code",
   "execution_count": 1,
   "metadata": {},
   "outputs": [
    {
     "name": "stdout",
     "output_type": "stream",
     "text": [
      "...a dud...\n",
      "[Common]\n",
      "🔷Uncommon\n",
      "💫 Rare 💫\n",
      "🌟🌟🌟 LEGENDARY 🌟🌟🌟\n"
     ]
    }
   ],
   "source": [
    "from enum import StrEnum, auto\n",
    "import numpy as np\n",
    "import time\n",
    "\n",
    "from IPython.display import clear_output\n",
    "\n",
    "_rng = np.random.default_rng()\n",
    "\n",
    "class Rarities(StrEnum):\n",
    "    Nothing = auto()\n",
    "    Common = auto()\n",
    "    Uncommon = auto()\n",
    "    Rare = auto()\n",
    "    VeryRare = auto()\n",
    "\n",
    "formatting_map: dict[Rarities, str] = {\n",
    "    Rarities.Nothing: \"...a dud...\",\n",
    "    Rarities.Common: \"[Common]\",\n",
    "    Rarities.Uncommon: \"🔷Uncommon\",\n",
    "    Rarities.Rare: \"💫 Rare 💫\",\n",
    "    Rarities.VeryRare: \"🌟🌟🌟 LEGENDARY 🌟🌟🌟\"\n",
    "}\n",
    "\n",
    "for b in formatting_map.values():\n",
    "    print(b)\n",
    "\n",
    "habit_pcts: dict[Rarities, float] = {\n",
    "    Rarities.Nothing: 50 / 100,\n",
    "    Rarities.Common: 35 / 100,\n",
    "    Rarities.Uncommon: 11 / 100,\n",
    "    Rarities.Rare: 3 / 100,\n",
    "    Rarities.VeryRare: 1 / 100,\n",
    "}\n",
    "assert np.isclose(sum((p for p in habit_pcts.values())), 1.0)"
   ]
  },
  {
   "cell_type": "code",
   "execution_count": 2,
   "metadata": {},
   "outputs": [],
   "source": [
    "class Player:\n",
    "    def __init__(self, name: str):\n",
    "        self._name: str = name"
   ]
  },
  {
   "cell_type": "code",
   "execution_count": 3,
   "metadata": {},
   "outputs": [],
   "source": [
    "def draw_lots(n: int = 1) -> Rarities:\n",
    "    return _rng.choice(list(habit_pcts.keys()), size = n, p = list(habit_pcts.values()))"
   ]
  },
  {
   "cell_type": "code",
   "execution_count": 34,
   "metadata": {},
   "outputs": [
    {
     "name": "stdout",
     "output_type": "stream",
     "text": [
      "You've drawn ...\n",
      ".\n",
      "..\n",
      "...\n",
      "[Common]\n"
     ]
    }
   ],
   "source": [
    "results = draw_lots(1)\n",
    "for lot in results:\n",
    "    print(\"You've drawn ...\")\n",
    "    time.sleep(1/3)\n",
    "    print(\".\")\n",
    "    time.sleep(1/3)\n",
    "    print(\"..\")\n",
    "    time.sleep(1/3)\n",
    "    print(\"...\")\n",
    "    time.sleep(1.0)\n",
    "    print(formatting_map[lot])\n",
    "    \n",
    "    input(\"Press any key to continue.\")\n",
    "    clear_output(wait = True)"
   ]
  },
  {
   "cell_type": "code",
   "execution_count": 37,
   "metadata": {},
   "outputs": [
    {
     "data": {
      "text/plain": [
       "np.int64(2)"
      ]
     },
     "execution_count": 37,
     "metadata": {},
     "output_type": "execute_result"
    }
   ],
   "source": [
    "_rng.choice([1, 2, 3, 4], p = [1/3, 1/3, 1/6, 1/6])"
   ]
  },
  {
   "cell_type": "code",
   "execution_count": 38,
   "metadata": {},
   "outputs": [
    {
     "data": {
      "text/plain": [
       "np.str_('earth')"
      ]
     },
     "execution_count": 38,
     "metadata": {},
     "output_type": "execute_result"
    }
   ],
   "source": [
    "_rng.choice([\"fire\", \"earth\", \"water\", \"wind\", \"void\"], p = [0.24, 0.24, 0.24, 0.24, 0.04])"
   ]
  },
  {
   "cell_type": "code",
   "execution_count": 36,
   "metadata": {},
   "outputs": [
    {
     "data": {
      "text/plain": [
       "array(['H', 'T'], dtype='<U1')"
      ]
     },
     "execution_count": 36,
     "metadata": {},
     "output_type": "execute_result"
    }
   ],
   "source": [
    "_rng.choice([\"H\", \"T\"], size = 2)"
   ]
  },
  {
   "cell_type": "code",
   "execution_count": null,
   "metadata": {},
   "outputs": [],
   "source": []
  }
 ],
 "metadata": {
  "kernelspec": {
   "display_name": ".venv",
   "language": "python",
   "name": "python3"
  },
  "language_info": {
   "codemirror_mode": {
    "name": "ipython",
    "version": 3
   },
   "file_extension": ".py",
   "mimetype": "text/x-python",
   "name": "python",
   "nbconvert_exporter": "python",
   "pygments_lexer": "ipython3",
   "version": "3.12.3"
  }
 },
 "nbformat": 4,
 "nbformat_minor": 2
}
