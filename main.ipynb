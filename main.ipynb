{
 "cells": [
  {
   "cell_type": "code",
   "execution_count": 1,
   "metadata": {},
   "outputs": [],
   "source": [
    "from enum import StrEnum, auto\n",
    "import numpy as np\n",
    "\n",
    "_rng = np.random.default_rng(0x2024_07_06)\n",
    "\n",
    "class Rarities(StrEnum):\n",
    "    Nothing = auto()\n",
    "    Common = auto()\n",
    "    Uncommon = auto()\n",
    "    Rare = auto()\n",
    "    VeryRare = auto()\n",
    "\n",
    "habit_pcts: dict[Rarities, float] = {\n",
    "    Rarities.Nothing.value: 50 / 100,\n",
    "    Rarities.Common.value: 35 / 100,\n",
    "    Rarities.Uncommon.value: 11 / 100,\n",
    "    Rarities.Rare.value: 3 / 100,\n",
    "    Rarities.VeryRare.value: 1 / 100,\n",
    "}\n",
    "assert np.isclose(sum((p for p in habit_pcts.values())), 1.0)"
   ]
  },
  {
   "cell_type": "code",
   "execution_count": null,
   "metadata": {},
   "outputs": [],
   "source": [
    "class Player:\n",
    "    def __init__(self, name: str):\n",
    "        self._name: str = name"
   ]
  },
  {
   "cell_type": "code",
   "execution_count": 10,
   "metadata": {},
   "outputs": [
    {
     "name": "stdout",
     "output_type": "stream",
     "text": [
      "3.4733\n"
     ]
    }
   ],
   "source": [
    "def draw_lots(n: int = 1) -> Rarities:\n",
    "    return _rng.choice(list(habit_pcts.keys()), size = n, p = list(habit_pcts.values()))"
   ]
  }
 ],
 "metadata": {
  "kernelspec": {
   "display_name": ".venv",
   "language": "python",
   "name": "python3"
  },
  "language_info": {
   "codemirror_mode": {
    "name": "ipython",
    "version": 3
   },
   "file_extension": ".py",
   "mimetype": "text/x-python",
   "name": "python",
   "nbconvert_exporter": "python",
   "pygments_lexer": "ipython3",
   "version": "3.12.3"
  }
 },
 "nbformat": 4,
 "nbformat_minor": 2
}
